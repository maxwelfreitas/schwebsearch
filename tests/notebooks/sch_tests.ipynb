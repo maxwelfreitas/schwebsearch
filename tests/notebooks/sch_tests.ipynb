{
 "cells": [
  {
   "cell_type": "markdown",
   "id": "d0804b7a-1494-447b-8ca7-14ed55e8cbfc",
   "metadata": {},
   "source": [
    "# Imports"
   ]
  },
  {
   "cell_type": "code",
   "execution_count": 13,
   "id": "0d9257c1-1a3f-469a-8035-5f564c64a20b",
   "metadata": {},
   "outputs": [],
   "source": [
    "from os import path as osp\n",
    "from pathlib import Path\n",
    "import time\n",
    "from datetime import datetime"
   ]
  },
  {
   "cell_type": "markdown",
   "id": "7048da52-8bfe-4be5-b5bf-941685b5b3a4",
   "metadata": {},
   "source": [
    "# Tests"
   ]
  },
  {
   "cell_type": "markdown",
   "id": "f2785660-f0d8-4760-9ed8-340bd5fc60ea",
   "metadata": {},
   "source": [
    "## Age of a file in days"
   ]
  },
  {
   "cell_type": "code",
   "execution_count": 14,
   "id": "728baf81-3a92-4e1f-b9ee-4c38b7f4a316",
   "metadata": {},
   "outputs": [
    {
     "data": {
      "text/plain": [
       "0"
      ]
     },
     "execution_count": 14,
     "metadata": {},
     "output_type": "execute_result"
    }
   ],
   "source": [
    "file = Path(r'C:\\Users\\maxwelfreitas\\AppData\\Local\\SCHWebSearch\\datasets\\sch\\produtos_certificados.zip')\n",
    "mtime = datetime.fromtimestamp(file.stat().st_ctime)\n",
    "sch_file_age = datetime.today() - mtime\n",
    "sch_file_age.days"
   ]
  },
  {
   "cell_type": "code",
   "execution_count": null,
   "id": "86caa894-3ce9-4cb5-8558-70392f53d097",
   "metadata": {},
   "outputs": [],
   "source": []
  }
 ],
 "metadata": {
  "kernelspec": {
   "display_name": "Python 3 (ipykernel)",
   "language": "python",
   "name": "python3"
  },
  "language_info": {
   "codemirror_mode": {
    "name": "ipython",
    "version": 3
   },
   "file_extension": ".py",
   "mimetype": "text/x-python",
   "name": "python",
   "nbconvert_exporter": "python",
   "pygments_lexer": "ipython3",
   "version": "3.12.4"
  }
 },
 "nbformat": 4,
 "nbformat_minor": 5
}
